{
 "cells": [
  {
   "cell_type": "markdown",
   "metadata": {},
   "source": [
    "Funzioni varie (work in progress)"
   ]
  },
  {
   "cell_type": "code",
   "execution_count": 44,
   "metadata": {},
   "outputs": [],
   "source": [
    "import sys, glob\n",
    "import pandas as pd"
   ]
  },
  {
   "cell_type": "code",
   "execution_count": null,
   "metadata": {},
   "outputs": [],
   "source": []
  },
  {
   "cell_type": "code",
   "execution_count": 45,
   "metadata": {},
   "outputs": [],
   "source": [
    "comuni = glob.glob('giornaliero/*.txt')\n",
    "\n",
    "daylist=[pd.to_datetime(file.split('_')[-1].split('.')[0], format='%d-%m-%Y').replace(hour=0) for file in comuni] \n",
    "daylist.sort()"
   ]
  },
  {
   "cell_type": "code",
   "execution_count": 34,
   "metadata": {},
   "outputs": [],
   "source": [
    "tutti = set(pd.date_range(daylist[0], daylist[-1]))\n",
    "presenti = set(daylist)"
   ]
  },
  {
   "cell_type": "code",
   "execution_count": 46,
   "metadata": {},
   "outputs": [
    {
     "data": {
      "text/plain": [
       "Timestamp('2020-09-13 00:00:00')"
      ]
     },
     "execution_count": 46,
     "metadata": {},
     "output_type": "execute_result"
    }
   ],
   "source": [
    "daylist[0]"
   ]
  },
  {
   "cell_type": "code",
   "execution_count": 47,
   "metadata": {},
   "outputs": [],
   "source": [
    "mancanti = list(tutti - presenti)"
   ]
  },
  {
   "cell_type": "code",
   "execution_count": 48,
   "metadata": {},
   "outputs": [],
   "source": [
    "mancanti.sort()"
   ]
  },
  {
   "cell_type": "code",
   "execution_count": 49,
   "metadata": {},
   "outputs": [
    {
     "name": "stdout",
     "output_type": "stream",
     "text": [
      "Giorni mancanti:\n",
      "\n",
      "1) 16-09-2020\n",
      "2) 17-09-2020\n",
      "3) 18-09-2020\n",
      "4) 19-09-2020\n",
      "5) 22-09-2020\n",
      "6) 24-09-2020\n",
      "7) 25-09-2020\n",
      "8) 29-09-2020\n",
      "9) 30-09-2020\n",
      "10) 01-10-2020\n",
      "11) 08-10-2020\n",
      "12) 13-10-2020\n",
      "13) 18-10-2020\n",
      "14) 20-10-2020\n",
      "15) 21-10-2020\n",
      "16) 22-10-2020\n",
      "17) 23-10-2020\n",
      "18) 24-10-2020\n",
      "19) 25-10-2020\n",
      "20) 27-10-2020\n",
      "21) 28-10-2020\n",
      "22) 29-10-2020\n",
      "23) 30-10-2020\n",
      "24) 31-10-2020\n",
      "25) 05-11-2020\n",
      "26) 28-12-2020\n",
      "27) 06-01-2021\n"
     ]
    }
   ],
   "source": [
    "print('Giorni mancanti:\\n')\n",
    "for i,d in enumerate(mancanti):\n",
    "    print(f'{i+1}) {d:%d-%m-%Y}')"
   ]
  },
  {
   "cell_type": "code",
   "execution_count": null,
   "metadata": {},
   "outputs": [],
   "source": []
  }
 ],
 "metadata": {
  "kernelspec": {
   "display_name": "Python 3",
   "language": "python",
   "name": "python3"
  },
  "language_info": {
   "codemirror_mode": {
    "name": "ipython",
    "version": 3
   },
   "file_extension": ".py",
   "mimetype": "text/x-python",
   "name": "python",
   "nbconvert_exporter": "python",
   "pygments_lexer": "ipython3",
   "version": "3.6.9"
  }
 },
 "nbformat": 4,
 "nbformat_minor": 4
}
